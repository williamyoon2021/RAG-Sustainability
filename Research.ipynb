{
  "nbformat": 4,
  "nbformat_minor": 0,
  "metadata": {
    "colab": {
      "provenance": [],
      "authorship_tag": "ABX9TyNX2goH4J3t08V5ZebrmAXs",
      "include_colab_link": true
    },
    "kernelspec": {
      "name": "python3",
      "display_name": "Python 3"
    },
    "language_info": {
      "name": "python"
    }
  },
  "cells": [
    {
      "cell_type": "markdown",
      "metadata": {
        "id": "view-in-github",
        "colab_type": "text"
      },
      "source": [
        "<a href=\"https://colab.research.google.com/github/williamyoon2021/RAG-Sustainability/blob/main/Research.ipynb\" target=\"_parent\"><img src=\"https://colab.research.google.com/assets/colab-badge.svg\" alt=\"Open In Colab\"/></a>"
      ]
    },
    {
      "cell_type": "code",
      "execution_count": null,
      "metadata": {
        "id": "AxdkLzhtuesQ",
        "collapsed": true
      },
      "outputs": [],
      "source": [
        "# STEP 1: Install Condacolab (restarts runtime)\n",
        "!pip install -q condacolab\n",
        "import condacolab\n",
        "condacolab.install()"
      ]
    },
    {
      "cell_type": "code",
      "source": [
        "# STEP 2–7: Clone repo, set up Conda env, install deps, run script\n",
        "\n",
        "# Clone repo\n",
        "!git clone https://github.com/RulinShao/retrieval-scaling.git\n",
        "\n",
        "# Create Python 3.8 env\n",
        "!conda create -n py38 python=3.8 -y\n",
        "\n",
        "# Install PyTorch (CUDA 11.8) + dependencies\n",
        "!conda run -n py38 pip install \\\n",
        "  torch==2.0.1+cu118 torchvision==0.15.2+cu118 \\\n",
        "  --extra-index-url https://download.pytorch.org/whl/cu118\n",
        "\n",
        "# Install other dependencies\n",
        "!conda run -n py38 pip install \\\n",
        "  faiss-gpu==1.7.2 \\\n",
        "  omegaconf \\\n",
        "  hydra-core \\\n",
        "  tqdm \\\n",
        "  transformers \\\n",
        "  sentence-transformers \\\n",
        "  pyserini \\\n",
        "  datasketch \\\n",
        "  numpy\n",
        "\n",
        "# Download dataset\n",
        "!mkdir -p raw_data\n",
        "!wget -O raw_data/fineweb-edu-1m.jsonl https://huggingface.co/datasets/rulins/FineWeb-Edu-1MT/resolve/main/fineweb-edu-1M.jsonl?download=true\n",
        "\n",
        "# Run the script with default config\n",
        "!conda run -n py38 env PYTHONPATH=. python retrieval-scaling/ric/main_ric.py --config-name example_config\n",
        "\n",
        "# Run the script with eval config\n",
        "!conda run -n py38 env PYTHONPATH=. python retrieval-scaling/ric/main_ric.py --config-name example_config \\\n",
        "  tasks.eval.task_name=perplexity \\\n",
        "  tasks.eval.search=true \\\n",
        "  tasks.eval.inference=true\n"
      ],
      "metadata": {
        "id": "LJV-MoCH01JU"
      },
      "execution_count": null,
      "outputs": []
    },
    {
      "cell_type": "code",
      "source": [
        "%cd /content/retrieval-scaling"
      ],
      "metadata": {
        "colab": {
          "base_uri": "https://localhost:8080/"
        },
        "id": "9d_edHaLyvY5",
        "outputId": "a34b88eb-dfd5-4d83-e9da-b5983b216b79"
      },
      "execution_count": null,
      "outputs": [
        {
          "output_type": "stream",
          "name": "stdout",
          "text": [
            "/content/retrieval-scaling\n"
          ]
        }
      ]
    }
  ]
}